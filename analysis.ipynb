{
 "cells": [
  {
   "cell_type": "code",
   "execution_count": 1,
   "metadata": {},
   "outputs": [],
   "source": [
    "import pandas\n",
    "\n",
    "df = pandas.read_csv('data.csv')"
   ]
  },
  {
   "cell_type": "code",
   "execution_count": 15,
   "metadata": {},
   "outputs": [],
   "source": [
    "import re\n",
    "\n",
    "hour_min_syntax = re.compile(r'(\\d{1,2}):(\\d{2})$')\n",
    "hour_min_sec_syntax = re.compile(r'(\\d{1,2}):(\\d{2}):(\\d{2})$')"
   ]
  },
  {
   "cell_type": "code",
   "execution_count": 17,
   "metadata": {},
   "outputs": [],
   "source": [
    "hour_min_only = df[df.apply(lambda item: bool(hour_min_syntax.match(item[1])), axis=1)]\n",
    "hour_min_sec_only = df[df.apply(lambda item: bool(hour_min_sec_syntax.match(item[1])), axis=1)]"
   ]
  },
  {
   "cell_type": "code",
   "execution_count": 29,
   "metadata": {},
   "outputs": [],
   "source": [
    "l1 = hour_min_only.values.tolist()\n",
    "l2 = hour_min_sec_only.values.tolist()\n",
    "ll1 = [(item[0], tuple(int(part) for part in item[1].split(\":\"))) for item in l1]\n",
    "ll2 = [(item[0], tuple(int(part) for part in item[1].split(\":\"))) for item in l2]\n",
    "ll1.sort(key=lambda item: item[1])\n",
    "ll2.sort(key=lambda item: item[1])\n",
    "d1 = dict(ll1)\n",
    "d2 = dict(ll2)"
   ]
  },
  {
   "cell_type": "code",
   "execution_count": 30,
   "metadata": {},
   "outputs": [],
   "source": [
    "for i in range(0, len(ll1)-1):\n",
    "    assert ll1[i][1][0] * 60 + ll1[i][1][1] == ll1[i+1][1][0] * 60 + ll1[i+1][1][1] - 1, f\"Failed for {ll1[i]} and {ll1[i+1]}\"\n",
    "for i in range(0, len(ll2)-1):\n",
    "    assert ll2[i][1][0] * 3600 + ll2[i][1][1] * 60 + ll2[i][1][2] == ll2[i+1][1][0] * 3600 + ll2[i+1][1][1] * 60 + ll2[i+1][1][2] - 1, f\"Failed for {ll2[i]} and {ll2[i+1]}\""
   ]
  }
 ],
 "metadata": {
  "kernelspec": {
   "display_name": "wikidata-time-of-the-day-analysis-lEx8slvn",
   "language": "python",
   "name": "python3"
  },
  "language_info": {
   "codemirror_mode": {
    "name": "ipython",
    "version": 3
   },
   "file_extension": ".py",
   "mimetype": "text/x-python",
   "name": "python",
   "nbconvert_exporter": "python",
   "pygments_lexer": "ipython3",
   "version": "3.11.2"
  },
  "orig_nbformat": 4
 },
 "nbformat": 4,
 "nbformat_minor": 2
}
